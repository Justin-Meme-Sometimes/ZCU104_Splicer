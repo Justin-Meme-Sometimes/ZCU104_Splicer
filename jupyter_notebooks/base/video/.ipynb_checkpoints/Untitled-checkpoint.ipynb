{
 "cells": [
  {
   "cell_type": "code",
   "execution_count": null,
   "id": "38852d88",
   "metadata": {},
   "outputs": [
    {
     "name": "stdout",
     "output_type": "stream",
     "text": [
      "Manual VDMA-based HDMI pass-through running...\n"
     ]
    }
   ],
   "source": [
    "from pynq import allocate\n",
    "from pynq.overlays.base import BaseOverlay\n",
    "from pynq.lib.video import VideoMode\n",
    "import time\n",
    "\n",
    "# Load the base overlay\n",
    "base = BaseOverlay(\"base.bit\")\n",
    "\n",
    "# Initialize HDMI input/output and VDMA\n",
    "hdmi_in = base.video.hdmi_in\n",
    "hdmi_out = base.video.hdmi_out\n",
    "vdma = base.video.axi_vdma\n",
    "\n",
    "# Configure HDMI input and output\n",
    "hdmi_in.configure()\n",
    "hdmi_out.configure(hdmi_in.mode)\n",
    "\n",
    "hdmi_in.start()\n",
    "hdmi_out.start()\n",
    "\n",
    "# Configure VDMA with the same mode as HDMI input\n",
    "vdma.readchannel.mode = hdmi_in.mode\n",
    "vdma.writechannel.mode = hdmi_in.mode\n",
    "vdma.readchannel.start()\n",
    "vdma.writechannel.start()\n",
    "\n",
    "print(\"Manual VDMA-based HDMI pass-through running...\")\n",
    "\n",
    "frame = vdma.readchannel.readframe()\n",
    "vdma.writechannel.writeframe(frame)\n",
    "vdma.writechannel.tie(vdma.readchannel)\n"
   ]
  },
  {
   "cell_type": "code",
   "execution_count": null,
   "id": "16c3c7a1",
   "metadata": {},
   "outputs": [],
   "source": [
    "hdmi_in.stop()\n",
    "hdmi_out.stop()\n",
    "vdma.readchannel.stop()\n",
    "vdma.writechannel.stop()"
   ]
  },
  {
   "cell_type": "code",
   "execution_count": null,
   "id": "b7a4e77c",
   "metadata": {},
   "outputs": [],
   "source": []
  },
  {
   "cell_type": "code",
   "execution_count": null,
   "id": "0c3d5b35",
   "metadata": {},
   "outputs": [],
   "source": []
  }
 ],
 "metadata": {
  "kernelspec": {
   "display_name": "Python 3 (ipykernel)",
   "language": "python",
   "name": "python3"
  },
  "language_info": {
   "codemirror_mode": {
    "name": "ipython",
    "version": 3
   },
   "file_extension": ".py",
   "mimetype": "text/x-python",
   "name": "python",
   "nbconvert_exporter": "python",
   "pygments_lexer": "ipython3",
   "version": "3.10.4"
  }
 },
 "nbformat": 4,
 "nbformat_minor": 5
}
