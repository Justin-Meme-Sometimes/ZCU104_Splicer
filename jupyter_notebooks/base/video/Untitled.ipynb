{
 "cells": [
  {
   "cell_type": "code",
   "execution_count": 2,
   "id": "38852d88",
   "metadata": {},
   "outputs": [
    {
     "name": "stdout",
     "output_type": "stream",
     "text": [
      "Setup VDMA\n",
      "Ready To Read\n"
     ]
    }
   ],
   "source": [
    "from pynq.overlays.base import BaseOverlay\n",
    "from pynq.lib.video import VideoMode\n",
    "import time\n",
    "\n",
    "# Load the base overlay\n",
    "base = BaseOverlay(\"base.bit\")\n",
    "\n",
    "# Access VDMA directly\n",
    "vdma = base.video.axi_vdma\n",
    "\n",
    "# Initialize HDMI input/output\n",
    "hdmi_in = base.video.hdmi_in  # Do not use frontend\n",
    "hdmi_out = base.video.hdmi_out  # Do not use frontend\n",
    "\n",
    "# Configure HDMI input and output\n",
    "hdmi_in.configure()\n",
    "hdmi_out.configure(VideoMode(1920, 1080, 24))  # Full HD resolution, 24-bit color\n",
    "hdmi_in.start()\n",
    "hdmi_out.start()\n",
    "\n",
    "# Configure VDMA channels\n",
    "vdma_mode = VideoMode(1920, 1080, 8)  # Full HD, 24 bpp\n",
    "vdma.readchannel.mode = vdma_mode\n",
    "vdma.writechannel.mode = vdma_mode\n",
    "print(\"Setup VDMA\")\n",
    "# Set physical address for frame buffers (replace with actual DDR addresess\n",
    "\n",
    "# Start VDMA channels\n",
    "vdma.readchannel.start()\n",
    "vdma.writechannel.start()\n",
    "print (\"Ready To Read\")\n",
    "frame = vdma.readchannel.readframe()\n",
    "vdma.writechannel.writeframe(frame)\n",
    "vdma.readchannel.tie(vdma.writechannel)\n",
    "\n"
   ]
  },
  {
   "cell_type": "code",
   "execution_count": null,
   "id": "16c3c7a1",
   "metadata": {},
   "outputs": [],
   "source": [
    "hdmi_in.stop()\n",
    "hdmi_out.stop()\n",
    "vdma.readchannel.stop()\n",
    "vdma.writechannel.stop()"
   ]
  },
  {
   "cell_type": "code",
   "execution_count": null,
   "id": "b7a4e77c",
   "metadata": {},
   "outputs": [],
   "source": []
  },
  {
   "cell_type": "code",
   "execution_count": null,
   "id": "0c3d5b35",
   "metadata": {},
   "outputs": [],
   "source": []
  }
 ],
 "metadata": {
  "kernelspec": {
   "display_name": "Python 3 (ipykernel)",
   "language": "python",
   "name": "python3"
  },
  "language_info": {
   "codemirror_mode": {
    "name": "ipython",
    "version": 3
   },
   "file_extension": ".py",
   "mimetype": "text/x-python",
   "name": "python",
   "nbconvert_exporter": "python",
   "pygments_lexer": "ipython3",
   "version": "3.10.4"
  }
 },
 "nbformat": 4,
 "nbformat_minor": 5
}
